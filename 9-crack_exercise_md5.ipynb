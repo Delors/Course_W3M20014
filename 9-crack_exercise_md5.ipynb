{
 "cells": [
  {
   "cell_type": "markdown",
   "metadata": {},
   "source": [
    "The following script just shows the basic idea. \n",
    "\n",
    "(E.g., it does not generate passwords of the form 0001, 0011; i.e., with a leading \"0\"; however, it does it job and that is all that matters in password recovery!)\n",
    "\n",
    "If you do this professionally (e.g., in the context of a pentest) use Hashcat and an appropriate computer."
   ]
  },
  {
   "cell_type": "code",
   "execution_count": 4,
   "metadata": {},
   "outputs": [
    {
     "name": "stdout",
     "output_type": "stream",
     "text": [
      "b'1234'\n",
      "b'81dc9bdb52d04dc20036dbd8313ed055'\n"
     ]
    }
   ],
   "source": [
    "import hashlib\n",
    "import binascii\n",
    "\n",
    "goal_hex = b\"81dc9bdb52d04dc20036dbd8313ed055\"\n",
    "goal = binascii.unhexlify(goal_hex)\n",
    "\n",
    "\n",
    "for i in range(0, 10000):\n",
    "    candidate = str(i).encode(\"us-ascii\")\n",
    "    result = hashlib.md5(candidate).digest()\n",
    "    if goal == result:\n",
    "        print(candidate)\n",
    "        print(binascii.hexlify(result))"
   ]
  }
 ],
 "metadata": {
  "kernelspec": {
   "display_name": "Python 3",
   "language": "python",
   "name": "python3"
  },
  "language_info": {
   "codemirror_mode": {
    "name": "ipython",
    "version": 3
   },
   "file_extension": ".py",
   "mimetype": "text/x-python",
   "name": "python",
   "nbconvert_exporter": "python",
   "pygments_lexer": "ipython3",
   "version": "3.12.0"
  }
 },
 "nbformat": 4,
 "nbformat_minor": 2
}
