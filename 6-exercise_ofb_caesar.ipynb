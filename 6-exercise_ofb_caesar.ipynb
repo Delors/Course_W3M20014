{
 "cells": [
  {
   "cell_type": "code",
   "execution_count": 2,
   "metadata": {},
   "outputs": [
    {
     "name": "stdout",
     "output_type": "stream",
     "text": [
      "0, A, 00000 \n",
      "1, B, 00001 \n",
      "2, C, 00010 \n",
      "3, D, 00011 \n",
      "4, E, 00100 \n",
      "5, F, 00101 \n",
      "6, G, 00110 \n",
      "7, H, 00111 \n",
      "8, I, 01000 \n",
      "9, J, 01001 \n",
      "10, K, 01010 \n",
      "11, L, 01011 \n",
      "12, M, 01100 \n",
      "13, N, 01101 \n",
      "14, O, 01110 \n",
      "15, P, 01111 \n",
      "16, Q, 10000 \n",
      "17, R, 10001 \n",
      "18, S, 10010 \n",
      "19, T, 10011 \n",
      "20, U, 10100 \n",
      "21, V, 10101 \n",
      "22, W, 10110 \n",
      "23, X, 10111 \n",
      "24, Y, 11000 \n",
      "25, Z, 11001 \n",
      "26, 1, 11010\n",
      "27, 2, 11011\n",
      "28, 3, 11100\n",
      "29, !, 11101\n",
      "30, ?, 11110\n",
      "31, \" \", 11111\n"
     ]
    }
   ],
   "source": [
    "base_value = ord('A')\n",
    "\n",
    "for i in range (0,26):\n",
    "    c = base_value+i\n",
    "    print(f\"{i}, {chr(c)}, {i:05b} \")\n",
    "\n",
    "print(f\"26, 1, {26:05b}\")\n",
    "print(f\"27, 2, {27:05b}\")\n",
    "print(f\"28, 3, {28:05b}\")\n",
    "print(f\"29, !, {29:05b}\")\n",
    "print(f\"30, ?, {30:05b}\")\n",
    "print(f\"31, \\\" \\\", {31:05b}\")"
   ]
  }
 ],
 "metadata": {
  "kernelspec": {
   "display_name": "Python 3",
   "language": "python",
   "name": "python3"
  },
  "language_info": {
   "codemirror_mode": {
    "name": "ipython",
    "version": 3
   },
   "file_extension": ".py",
   "mimetype": "text/x-python",
   "name": "python",
   "nbconvert_exporter": "python",
   "pygments_lexer": "ipython3",
   "version": "3.12.0"
  }
 },
 "nbformat": 4,
 "nbformat_minor": 2
}
