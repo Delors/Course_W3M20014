{
 "cells": [
  {
   "cell_type": "markdown",
   "metadata": {},
   "source": [
    "# Miller-Rabin Algorithm\n",
    "_______________________"
   ]
  },
  {
   "cell_type": "code",
   "execution_count": 1,
   "metadata": {},
   "outputs": [],
   "source": [
    "def determineFactorizationForEvenNumber(n):\n",
    "    assert n >=2 and n % 2 == 0 # is even number\n",
    "\n",
    "    s = 0    \n",
    "    while(n > 0):\n",
    "        if (n % 2 == 1):\n",
    "            return (s,n)\n",
    "        else:\n",
    "            n = n // 2\n",
    "            s += 1\n",
    "\n",
    "#print(determineFactorizationForEvenNumber(24))\n",
    "#print(determineFactorizationForEvenNumber(1026))"
   ]
  },
  {
   "cell_type": "code",
   "execution_count": 7,
   "metadata": {},
   "outputs": [
    {
     "name": "stdout",
     "output_type": "stream",
     "text": [
      "0 0 22 6 36\n",
      "0 1 22 36 1\n",
      "1 0 11 36 1\n",
      "1 1 11 1 1\n",
      "2 0 21 36 1\n",
      "2 1 21 1 1\n",
      "37 probably prime\n",
      "0 0 12 532 599\n",
      "1027 composite\n"
     ]
    }
   ],
   "source": [
    "from random import randrange \n",
    "\n",
    "def primalityTest(n,k):\n",
    "    assert n > 1 and n % 2 == 1\n",
    "    assert k > 0 \n",
    "\n",
    "    (s,d) = determineFactorizationForEvenNumber(n-1)\n",
    "    for _k in range(0,k):\n",
    "        a = randrange(2,n-2)\n",
    "        x = pow(a,d,n) # <= \"default\" pow implements modular exponentiation       \n",
    "        for _s in range(0,s):            \n",
    "            y = x*x % n\n",
    "            print(_k,_s,a,x,y)\n",
    "            if y == 1 and x != 1 and y != 1:\n",
    "                return \"composite\"\n",
    "            x = y\n",
    "        if y != 1:\n",
    "            return \"composite\"\n",
    "    return \"probably prime\"\n",
    "\n",
    "print(37, primalityTest(37,3))\n",
    "print(1027, primalityTest(1027,3)) # 1027 = 13 * 79\n"
   ]
  }
 ],
 "metadata": {
  "kernelspec": {
   "display_name": "Python 3",
   "language": "python",
   "name": "python3"
  },
  "language_info": {
   "codemirror_mode": {
    "name": "ipython",
    "version": 3
   },
   "file_extension": ".py",
   "mimetype": "text/x-python",
   "name": "python",
   "nbconvert_exporter": "python",
   "pygments_lexer": "ipython3",
   "version": "3.12.0"
  }
 },
 "nbformat": 4,
 "nbformat_minor": 2
}
